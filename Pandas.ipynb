{
 "cells": [
  {
   "cell_type": "code",
   "execution_count": 33,
   "id": "31e361ef",
   "metadata": {},
   "outputs": [],
   "source": [
    "import pandas as pd"
   ]
  },
  {
   "cell_type": "code",
   "execution_count": 34,
   "id": "8f061f79",
   "metadata": {},
   "outputs": [],
   "source": [
    "archivo_movie = r'C:\\Users\\doga1\\Downloads\\datasets\\arwu-iberoamerica.csv'\n",
    "#df = pd.read_csv(archivo_movie, delim_whitespace=True)\n",
    "df = pd.read_csv(archivo_movie, delimiter=',')"
   ]
  },
  {
   "cell_type": "code",
   "execution_count": 35,
   "id": "2dfc5f4f",
   "metadata": {},
   "outputs": [
    {
     "data": {
      "text/html": [
       "<div>\n",
       "<style scoped>\n",
       "    .dataframe tbody tr th:only-of-type {\n",
       "        vertical-align: middle;\n",
       "    }\n",
       "\n",
       "    .dataframe tbody tr th {\n",
       "        vertical-align: top;\n",
       "    }\n",
       "\n",
       "    .dataframe thead th {\n",
       "        text-align: right;\n",
       "    }\n",
       "</style>\n",
       "<table border=\"1\" class=\"dataframe\">\n",
       "  <thead>\n",
       "    <tr style=\"text-align: right;\">\n",
       "      <th></th>\n",
       "      <th>Posición\\niberoamericana</th>\n",
       "      <th>Posición\\nglobal</th>\n",
       "      <th>Universidad</th>\n",
       "      <th>País</th>\n",
       "    </tr>\n",
       "  </thead>\n",
       "  <tbody>\n",
       "    <tr>\n",
       "      <th>0</th>\n",
       "      <td>1</td>\n",
       "      <td>101-150</td>\n",
       "      <td>Universidad de São Paulo</td>\n",
       "      <td>Brasil Brasil</td>\n",
       "    </tr>\n",
       "    <tr>\n",
       "      <th>1</th>\n",
       "      <td>2=</td>\n",
       "      <td>151-200</td>\n",
       "      <td>Universidad de Barcelona</td>\n",
       "      <td>España España</td>\n",
       "    </tr>\n",
       "    <tr>\n",
       "      <th>2</th>\n",
       "      <td>2=</td>\n",
       "      <td>151-200</td>\n",
       "      <td>Universidad de Lisboa</td>\n",
       "      <td>Portugal</td>\n",
       "    </tr>\n",
       "    <tr>\n",
       "      <th>3</th>\n",
       "      <td>4=</td>\n",
       "      <td>201-300</td>\n",
       "      <td>Universidad Autónoma de Barcelona</td>\n",
       "      <td>España España</td>\n",
       "    </tr>\n",
       "    <tr>\n",
       "      <th>4</th>\n",
       "      <td>4=</td>\n",
       "      <td>201-300</td>\n",
       "      <td>Universidad de Buenos Aires</td>\n",
       "      <td>Argentina</td>\n",
       "    </tr>\n",
       "  </tbody>\n",
       "</table>\n",
       "</div>"
      ],
      "text/plain": [
       "  Posición\\niberoamericana Posición\\nglobal  \\\n",
       "0                        1          101-150   \n",
       "1                       2=          151-200   \n",
       "2                       2=          151-200   \n",
       "3                       4=          201-300   \n",
       "4                       4=          201-300   \n",
       "\n",
       "                         Universidad           País  \n",
       "0           Universidad de São Paulo  Brasil Brasil  \n",
       "1           Universidad de Barcelona  España España  \n",
       "2              Universidad de Lisboa       Portugal  \n",
       "3  Universidad Autónoma de Barcelona  España España  \n",
       "4        Universidad de Buenos Aires      Argentina  "
      ]
     },
     "execution_count": 35,
     "metadata": {},
     "output_type": "execute_result"
    }
   ],
   "source": [
    "df.head(5)"
   ]
  },
  {
   "cell_type": "code",
   "execution_count": 36,
   "id": "b5942811",
   "metadata": {},
   "outputs": [
    {
     "data": {
      "text/plain": [
       "Posición\\niberoamericana    0\n",
       "Posición\\nglobal            0\n",
       "Universidad                 0\n",
       "País                        0\n",
       "dtype: int64"
      ]
     },
     "execution_count": 36,
     "metadata": {},
     "output_type": "execute_result"
    }
   ],
   "source": [
    "df.isnull().sum()"
   ]
  },
  {
   "cell_type": "code",
   "execution_count": 37,
   "id": "bbc25321",
   "metadata": {},
   "outputs": [],
   "source": [
    "num_filas, num_columns = df.shape"
   ]
  },
  {
   "cell_type": "code",
   "execution_count": 38,
   "id": "b2c59ff2",
   "metadata": {},
   "outputs": [
    {
     "name": "stdout",
     "output_type": "stream",
     "text": [
      "Número de filas: 78\n",
      "Número de columnas: 4\n"
     ]
    }
   ],
   "source": [
    "print(f'Número de filas: {num_filas}')\n",
    "print(f'Número de columnas: {num_columns}')"
   ]
  },
  {
   "cell_type": "code",
   "execution_count": 39,
   "id": "e5cacafd",
   "metadata": {},
   "outputs": [],
   "source": [
    "celdas_vacias = df.isna()"
   ]
  },
  {
   "cell_type": "code",
   "execution_count": 40,
   "id": "7a264008",
   "metadata": {},
   "outputs": [],
   "source": [
    "celdas_vacias_pos = [(i,j) for i in range(len(df)) for j in range(len(df.columns)) if celdas_vacias.iloc[i,j]]"
   ]
  },
  {
   "cell_type": "code",
   "execution_count": 41,
   "id": "1192e068",
   "metadata": {},
   "outputs": [
    {
     "name": "stdout",
     "output_type": "stream",
     "text": [
      "Celdas vacias: \n"
     ]
    }
   ],
   "source": [
    "print('Celdas vacias: ')\n",
    "for pos in celdas_vacias_pos:\n",
    "    print(f'Fila {pos[0]+1}, columna {pos[1]+1}')"
   ]
  },
  {
   "cell_type": "code",
   "execution_count": 42,
   "id": "ac10d212",
   "metadata": {},
   "outputs": [
    {
     "name": "stdout",
     "output_type": "stream",
     "text": [
      "España España            40\n",
      "Brasil Brasil            22\n",
      "Portugal                  6\n",
      "Chile Chile               4\n",
      "México México             2\n",
      "Argentina                 1\n",
      "Colombia Colombia         1\n",
      "Costa Rica Costa Rica     1\n",
      "Uruguay Uruguay           1\n",
      "Name: País, dtype: int64\n"
     ]
    }
   ],
   "source": [
    "count_pais = df['País'].value_counts()\n",
    "print(count_pais)"
   ]
  },
  {
   "cell_type": "code",
   "execution_count": 43,
   "id": "850d5f38",
   "metadata": {},
   "outputs": [
    {
     "name": "stdout",
     "output_type": "stream",
     "text": [
      "78\n"
     ]
    }
   ],
   "source": [
    "total_universidad_pais = count_pais.sum()\n",
    "print(total_universidad_pais)"
   ]
  },
  {
   "cell_type": "code",
   "execution_count": 44,
   "id": "952471b6",
   "metadata": {},
   "outputs": [
    {
     "name": "stdout",
     "output_type": "stream",
     "text": [
      "España España            51%\n",
      "Brasil Brasil            28%\n",
      "Portugal                  8%\n",
      "Chile Chile               5%\n",
      "México México             3%\n",
      "Argentina                 1%\n",
      "Colombia Colombia         1%\n",
      "Costa Rica Costa Rica     1%\n",
      "Uruguay Uruguay           1%\n",
      "Name: País, dtype: object\n"
     ]
    }
   ],
   "source": [
    "# Calcular el porcentaje de cada país sobre el total\n",
    "procentaje = (count_pais / total_universidad_pais) *100\n",
    "# Redondear los porcentajes a 0 decimales y agregar el signo de porcentaje\n",
    "procentaje = procentaje.round(0).map('{:.0f}%'.format)\n",
    "print(procentaje)"
   ]
  },
  {
   "cell_type": "code",
   "execution_count": null,
   "id": "76df1384",
   "metadata": {},
   "outputs": [],
   "source": []
  }
 ],
 "metadata": {
  "kernelspec": {
   "display_name": "Python 3 (ipykernel)",
   "language": "python",
   "name": "python3"
  },
  "language_info": {
   "codemirror_mode": {
    "name": "ipython",
    "version": 3
   },
   "file_extension": ".py",
   "mimetype": "text/x-python",
   "name": "python",
   "nbconvert_exporter": "python",
   "pygments_lexer": "ipython3",
   "version": "3.10.9"
  }
 },
 "nbformat": 4,
 "nbformat_minor": 5
}
