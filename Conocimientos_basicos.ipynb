{
 "cells": [
  {
   "cell_type": "markdown",
   "id": "7d99ad8c",
   "metadata": {},
   "source": [
    "Instalar pandas"
   ]
  },
  {
   "cell_type": "code",
   "execution_count": 1,
   "id": "dd6bc5d5",
   "metadata": {},
   "outputs": [],
   "source": [
    "#!pip install pandas"
   ]
  },
  {
   "cell_type": "markdown",
   "id": "887b9233",
   "metadata": {},
   "source": [
    "Limpiando data"
   ]
  },
  {
   "cell_type": "code",
   "execution_count": 2,
   "id": "1e85ed06",
   "metadata": {},
   "outputs": [],
   "source": [
    "import pandas as pd\n",
    "\n",
    "df_data_historica = pd.read_csv(r'C:\\Users\\doga1\\desarrollo\\python\\practicas\\bases_datos\\pandas\\Predicting Winner FIFA World Cup 2022\\fifa_worldcup_matches.csv')\n",
    "df_fixture = pd.read_csv(r'C:\\Users\\doga1\\desarrollo\\python\\practicas\\bases_datos\\pandas\\Predicting Winner FIFA World Cup 2022\\fifa_worldcup_fixture.csv')\n",
    "df_data_faltante = pd.read_csv(r'C:\\Users\\doga1\\desarrollo\\python\\practicas\\bases_datos\\pandas\\Predicting Winner FIFA World Cup 2022\\fifa_worldcup_missing_data.csv')"
   ]
  },
  {
   "cell_type": "markdown",
   "id": "77240c7e",
   "metadata": {},
   "source": [
    "Limpiando df_fixture"
   ]
  },
  {
   "cell_type": "code",
   "execution_count": 3,
   "id": "6e876602",
   "metadata": {},
   "outputs": [],
   "source": [
    "df_fixture['home'] = df_fixture['home'].str.strip() #str es un atributo para manipular strings y strip es un metodo que se usa para eliminar espacios en blancos\n",
    "df_fixture['away'] = df_fixture['away'].str.strip()"
   ]
  },
  {
   "cell_type": "markdown",
   "id": "6706ea7d",
   "metadata": {},
   "source": [
    "Limpiando df_missing_data y agregandolo a df_histoical_data"
   ]
  },
  {
   "cell_type": "code",
   "execution_count": 4,
   "id": "bca268c0",
   "metadata": {},
   "outputs": [],
   "source": [
    "#df_data_faltante[df_data_faltante['home'].isnull()]\n",
    "df_data_faltante.dropna(inplace=True)"
   ]
  },
  {
   "cell_type": "code",
   "execution_count": 5,
   "id": "5051f68f",
   "metadata": {},
   "outputs": [
    {
     "data": {
      "text/html": [
       "<div>\n",
       "<style scoped>\n",
       "    .dataframe tbody tr th:only-of-type {\n",
       "        vertical-align: middle;\n",
       "    }\n",
       "\n",
       "    .dataframe tbody tr th {\n",
       "        vertical-align: top;\n",
       "    }\n",
       "\n",
       "    .dataframe thead th {\n",
       "        text-align: right;\n",
       "    }\n",
       "</style>\n",
       "<table border=\"1\" class=\"dataframe\">\n",
       "  <thead>\n",
       "    <tr style=\"text-align: right;\">\n",
       "      <th></th>\n",
       "      <th>home</th>\n",
       "      <th>score</th>\n",
       "      <th>away</th>\n",
       "      <th>year</th>\n",
       "    </tr>\n",
       "  </thead>\n",
       "  <tbody>\n",
       "    <tr>\n",
       "      <th>450</th>\n",
       "      <td>Yugoslavia</td>\n",
       "      <td>2–1</td>\n",
       "      <td>Brazil</td>\n",
       "      <td>1930</td>\n",
       "    </tr>\n",
       "    <tr>\n",
       "      <th>460</th>\n",
       "      <td>Uruguay</td>\n",
       "      <td>6–1</td>\n",
       "      <td>Yugoslavia</td>\n",
       "      <td>1930</td>\n",
       "    </tr>\n",
       "    <tr>\n",
       "      <th>459</th>\n",
       "      <td>Argentina</td>\n",
       "      <td>6–1</td>\n",
       "      <td>United States</td>\n",
       "      <td>1930</td>\n",
       "    </tr>\n",
       "    <tr>\n",
       "      <th>458</th>\n",
       "      <td>Paraguay</td>\n",
       "      <td>1–0</td>\n",
       "      <td>Belgium</td>\n",
       "      <td>1930</td>\n",
       "    </tr>\n",
       "    <tr>\n",
       "      <th>457</th>\n",
       "      <td>United States</td>\n",
       "      <td>3–0</td>\n",
       "      <td>Paraguay</td>\n",
       "      <td>1930</td>\n",
       "    </tr>\n",
       "    <tr>\n",
       "      <th>...</th>\n",
       "      <td>...</td>\n",
       "      <td>...</td>\n",
       "      <td>...</td>\n",
       "      <td>...</td>\n",
       "    </tr>\n",
       "    <tr>\n",
       "      <th>863</th>\n",
       "      <td>Brazil</td>\n",
       "      <td>2–0</td>\n",
       "      <td>Costa Rica</td>\n",
       "      <td>2018</td>\n",
       "    </tr>\n",
       "    <tr>\n",
       "      <th>864</th>\n",
       "      <td>Serbia</td>\n",
       "      <td>1–2</td>\n",
       "      <td>Switzerland</td>\n",
       "      <td>2018</td>\n",
       "    </tr>\n",
       "    <tr>\n",
       "      <th>865</th>\n",
       "      <td>Serbia</td>\n",
       "      <td>0–2</td>\n",
       "      <td>Brazil</td>\n",
       "      <td>2018</td>\n",
       "    </tr>\n",
       "    <tr>\n",
       "      <th>867</th>\n",
       "      <td>Germany</td>\n",
       "      <td>0–1</td>\n",
       "      <td>Mexico</td>\n",
       "      <td>2018</td>\n",
       "    </tr>\n",
       "    <tr>\n",
       "      <th>900</th>\n",
       "      <td>France</td>\n",
       "      <td>4–2</td>\n",
       "      <td>Croatia</td>\n",
       "      <td>2018</td>\n",
       "    </tr>\n",
       "  </tbody>\n",
       "</table>\n",
       "<p>901 rows × 4 columns</p>\n",
       "</div>"
      ],
      "text/plain": [
       "               home score            away  year\n",
       "450     Yugoslavia    2–1          Brazil  1930\n",
       "460        Uruguay    6–1      Yugoslavia  1930\n",
       "459      Argentina    6–1   United States  1930\n",
       "458       Paraguay    1–0         Belgium  1930\n",
       "457  United States    3–0        Paraguay  1930\n",
       "..              ...   ...             ...   ...\n",
       "863         Brazil    2–0      Costa Rica  2018\n",
       "864         Serbia    1–2     Switzerland  2018\n",
       "865         Serbia    0–2          Brazil  2018\n",
       "867        Germany    0–1          Mexico  2018\n",
       "900         France    4–2         Croatia  2018\n",
       "\n",
       "[901 rows x 4 columns]"
      ]
     },
     "execution_count": 5,
     "metadata": {},
     "output_type": "execute_result"
    }
   ],
   "source": [
    "df_data_historica = pd.concat([df_data_faltante, df_data_historica], ignore_index=True) #con ignore_index resetea el index para que empiece desde 0\n",
    "df_data_historica.drop_duplicates(inplace=True)\n",
    "df_data_historica.sort_values('year', inplace=True)\n",
    "df_data_historica"
   ]
  },
  {
   "cell_type": "code",
   "execution_count": 6,
   "id": "80dacfeb",
   "metadata": {},
   "outputs": [
    {
     "data": {
      "text/html": [
       "<div>\n",
       "<style scoped>\n",
       "    .dataframe tbody tr th:only-of-type {\n",
       "        vertical-align: middle;\n",
       "    }\n",
       "\n",
       "    .dataframe tbody tr th {\n",
       "        vertical-align: top;\n",
       "    }\n",
       "\n",
       "    .dataframe thead th {\n",
       "        text-align: right;\n",
       "    }\n",
       "</style>\n",
       "<table border=\"1\" class=\"dataframe\">\n",
       "  <thead>\n",
       "    <tr style=\"text-align: right;\">\n",
       "      <th></th>\n",
       "      <th>home</th>\n",
       "      <th>score</th>\n",
       "      <th>away</th>\n",
       "      <th>year</th>\n",
       "    </tr>\n",
       "  </thead>\n",
       "  <tbody>\n",
       "  </tbody>\n",
       "</table>\n",
       "</div>"
      ],
      "text/plain": [
       "Empty DataFrame\n",
       "Columns: [home, score, away, year]\n",
       "Index: []"
      ]
     },
     "execution_count": 6,
     "metadata": {},
     "output_type": "execute_result"
    }
   ],
   "source": [
    "df_data_faltante[df_data_faltante['home'].isnull()]"
   ]
  },
  {
   "cell_type": "markdown",
   "id": "13ea61eb",
   "metadata": {},
   "source": [
    "Limpiando df_historical_data"
   ]
  },
  {
   "cell_type": "code",
   "execution_count": 7,
   "id": "a7280281",
   "metadata": {},
   "outputs": [],
   "source": [
    "index_eliminar = df_data_historica[df_data_historica['home'].str.contains('Sweden') & df_data_historica['away'].str.contains('Austria')].index"
   ]
  },
  {
   "cell_type": "code",
   "execution_count": 8,
   "id": "dc6aecee",
   "metadata": {},
   "outputs": [],
   "source": [
    "df_data_historica.drop(index = index_eliminar, inplace=True)"
   ]
  },
  {
   "cell_type": "code",
   "execution_count": 9,
   "id": "749008ab",
   "metadata": {},
   "outputs": [
    {
     "data": {
      "text/html": [
       "<div>\n",
       "<style scoped>\n",
       "    .dataframe tbody tr th:only-of-type {\n",
       "        vertical-align: middle;\n",
       "    }\n",
       "\n",
       "    .dataframe tbody tr th {\n",
       "        vertical-align: top;\n",
       "    }\n",
       "\n",
       "    .dataframe thead th {\n",
       "        text-align: right;\n",
       "    }\n",
       "</style>\n",
       "<table border=\"1\" class=\"dataframe\">\n",
       "  <thead>\n",
       "    <tr style=\"text-align: right;\">\n",
       "      <th></th>\n",
       "      <th>home</th>\n",
       "      <th>score</th>\n",
       "      <th>away</th>\n",
       "      <th>year</th>\n",
       "    </tr>\n",
       "  </thead>\n",
       "  <tbody>\n",
       "  </tbody>\n",
       "</table>\n",
       "</div>"
      ],
      "text/plain": [
       "Empty DataFrame\n",
       "Columns: [home, score, away, year]\n",
       "Index: []"
      ]
     },
     "execution_count": 9,
     "metadata": {},
     "output_type": "execute_result"
    }
   ],
   "source": [
    "df_data_historica[df_data_historica['home'].str.contains('Sweden') & df_data_historica['away'].str.contains('Austria')]"
   ]
  },
  {
   "cell_type": "code",
   "execution_count": 10,
   "id": "d9dc7fd5",
   "metadata": {},
   "outputs": [],
   "source": [
    "#df_data_historica[df_data_historica['score'].str.contains('[^\\d-]')]\n",
    "#df_data_historica['score'] = df_data_historica['score'].str.replace('[^\\d-]', '', regex = True)\n",
    "#df_data_historica"
   ]
  },
  {
   "cell_type": "code",
   "execution_count": 11,
   "id": "7c706067",
   "metadata": {},
   "outputs": [
    {
     "data": {
      "text/html": [
       "<div>\n",
       "<style scoped>\n",
       "    .dataframe tbody tr th:only-of-type {\n",
       "        vertical-align: middle;\n",
       "    }\n",
       "\n",
       "    .dataframe tbody tr th {\n",
       "        vertical-align: top;\n",
       "    }\n",
       "\n",
       "    .dataframe thead th {\n",
       "        text-align: right;\n",
       "    }\n",
       "</style>\n",
       "<table border=\"1\" class=\"dataframe\">\n",
       "  <thead>\n",
       "    <tr style=\"text-align: right;\">\n",
       "      <th></th>\n",
       "      <th>home</th>\n",
       "      <th>score</th>\n",
       "      <th>away</th>\n",
       "      <th>year</th>\n",
       "    </tr>\n",
       "  </thead>\n",
       "  <tbody>\n",
       "    <tr>\n",
       "      <th>450</th>\n",
       "      <td>Yugoslavia</td>\n",
       "      <td>2–1</td>\n",
       "      <td>Brazil</td>\n",
       "      <td>1930</td>\n",
       "    </tr>\n",
       "    <tr>\n",
       "      <th>460</th>\n",
       "      <td>Uruguay</td>\n",
       "      <td>6–1</td>\n",
       "      <td>Yugoslavia</td>\n",
       "      <td>1930</td>\n",
       "    </tr>\n",
       "    <tr>\n",
       "      <th>459</th>\n",
       "      <td>Argentina</td>\n",
       "      <td>6–1</td>\n",
       "      <td>United States</td>\n",
       "      <td>1930</td>\n",
       "    </tr>\n",
       "    <tr>\n",
       "      <th>458</th>\n",
       "      <td>Paraguay</td>\n",
       "      <td>1–0</td>\n",
       "      <td>Belgium</td>\n",
       "      <td>1930</td>\n",
       "    </tr>\n",
       "    <tr>\n",
       "      <th>457</th>\n",
       "      <td>United States</td>\n",
       "      <td>3–0</td>\n",
       "      <td>Paraguay</td>\n",
       "      <td>1930</td>\n",
       "    </tr>\n",
       "    <tr>\n",
       "      <th>...</th>\n",
       "      <td>...</td>\n",
       "      <td>...</td>\n",
       "      <td>...</td>\n",
       "      <td>...</td>\n",
       "    </tr>\n",
       "    <tr>\n",
       "      <th>863</th>\n",
       "      <td>Brazil</td>\n",
       "      <td>2–0</td>\n",
       "      <td>Costa Rica</td>\n",
       "      <td>2018</td>\n",
       "    </tr>\n",
       "    <tr>\n",
       "      <th>864</th>\n",
       "      <td>Serbia</td>\n",
       "      <td>1–2</td>\n",
       "      <td>Switzerland</td>\n",
       "      <td>2018</td>\n",
       "    </tr>\n",
       "    <tr>\n",
       "      <th>865</th>\n",
       "      <td>Serbia</td>\n",
       "      <td>0–2</td>\n",
       "      <td>Brazil</td>\n",
       "      <td>2018</td>\n",
       "    </tr>\n",
       "    <tr>\n",
       "      <th>867</th>\n",
       "      <td>Germany</td>\n",
       "      <td>0–1</td>\n",
       "      <td>Mexico</td>\n",
       "      <td>2018</td>\n",
       "    </tr>\n",
       "    <tr>\n",
       "      <th>900</th>\n",
       "      <td>France</td>\n",
       "      <td>4–2</td>\n",
       "      <td>Croatia</td>\n",
       "      <td>2018</td>\n",
       "    </tr>\n",
       "  </tbody>\n",
       "</table>\n",
       "<p>900 rows × 4 columns</p>\n",
       "</div>"
      ],
      "text/plain": [
       "               home score            away  year\n",
       "450     Yugoslavia    2–1          Brazil  1930\n",
       "460        Uruguay    6–1      Yugoslavia  1930\n",
       "459      Argentina    6–1   United States  1930\n",
       "458       Paraguay    1–0         Belgium  1930\n",
       "457  United States    3–0        Paraguay  1930\n",
       "..              ...   ...             ...   ...\n",
       "863         Brazil    2–0      Costa Rica  2018\n",
       "864         Serbia    1–2     Switzerland  2018\n",
       "865         Serbia    0–2          Brazil  2018\n",
       "867        Germany    0–1          Mexico  2018\n",
       "900         France    4–2         Croatia  2018\n",
       "\n",
       "[900 rows x 4 columns]"
      ]
     },
     "execution_count": 11,
     "metadata": {},
     "output_type": "execute_result"
    }
   ],
   "source": [
    "df_data_historica[df_data_historica['score'].str.contains('[^\\d-]')]\n",
    "df_data_historica"
   ]
  },
  {
   "cell_type": "code",
   "execution_count": 12,
   "id": "265601cb",
   "metadata": {},
   "outputs": [],
   "source": [
    "df_data_historica['home'] = df_data_historica['home'].str.strip() #str es un atributo para manipular strings y strip es un metodo que se usa para eliminar espacios en blancos\n",
    "df_data_historica['away'] = df_data_historica['away'].str.strip()"
   ]
  },
  {
   "cell_type": "code",
   "execution_count": 13,
   "id": "c5dbd8b1",
   "metadata": {},
   "outputs": [],
   "source": [
    "df_data_historica[['HomeGoals', 'AwayGoals']] = df_data_historica['score'].str.split('–', expand= True)"
   ]
  },
  {
   "cell_type": "code",
   "execution_count": 14,
   "id": "39583cc7",
   "metadata": {},
   "outputs": [],
   "source": [
    "df_data_historica.drop('score', axis=1, inplace=True)"
   ]
  },
  {
   "cell_type": "code",
   "execution_count": 15,
   "id": "233d0636",
   "metadata": {},
   "outputs": [
    {
     "data": {
      "text/html": [
       "<div>\n",
       "<style scoped>\n",
       "    .dataframe tbody tr th:only-of-type {\n",
       "        vertical-align: middle;\n",
       "    }\n",
       "\n",
       "    .dataframe tbody tr th {\n",
       "        vertical-align: top;\n",
       "    }\n",
       "\n",
       "    .dataframe thead th {\n",
       "        text-align: right;\n",
       "    }\n",
       "</style>\n",
       "<table border=\"1\" class=\"dataframe\">\n",
       "  <thead>\n",
       "    <tr style=\"text-align: right;\">\n",
       "      <th></th>\n",
       "      <th>HomeTeam</th>\n",
       "      <th>AwayTeam</th>\n",
       "      <th>Year</th>\n",
       "      <th>HomeGoals</th>\n",
       "      <th>AwayGoals</th>\n",
       "    </tr>\n",
       "  </thead>\n",
       "  <tbody>\n",
       "    <tr>\n",
       "      <th>450</th>\n",
       "      <td>Yugoslavia</td>\n",
       "      <td>Brazil</td>\n",
       "      <td>1930</td>\n",
       "      <td>2</td>\n",
       "      <td>1</td>\n",
       "    </tr>\n",
       "    <tr>\n",
       "      <th>460</th>\n",
       "      <td>Uruguay</td>\n",
       "      <td>Yugoslavia</td>\n",
       "      <td>1930</td>\n",
       "      <td>6</td>\n",
       "      <td>1</td>\n",
       "    </tr>\n",
       "    <tr>\n",
       "      <th>459</th>\n",
       "      <td>Argentina</td>\n",
       "      <td>United States</td>\n",
       "      <td>1930</td>\n",
       "      <td>6</td>\n",
       "      <td>1</td>\n",
       "    </tr>\n",
       "    <tr>\n",
       "      <th>458</th>\n",
       "      <td>Paraguay</td>\n",
       "      <td>Belgium</td>\n",
       "      <td>1930</td>\n",
       "      <td>1</td>\n",
       "      <td>0</td>\n",
       "    </tr>\n",
       "    <tr>\n",
       "      <th>457</th>\n",
       "      <td>United States</td>\n",
       "      <td>Paraguay</td>\n",
       "      <td>1930</td>\n",
       "      <td>3</td>\n",
       "      <td>0</td>\n",
       "    </tr>\n",
       "    <tr>\n",
       "      <th>...</th>\n",
       "      <td>...</td>\n",
       "      <td>...</td>\n",
       "      <td>...</td>\n",
       "      <td>...</td>\n",
       "      <td>...</td>\n",
       "    </tr>\n",
       "    <tr>\n",
       "      <th>863</th>\n",
       "      <td>Brazil</td>\n",
       "      <td>Costa Rica</td>\n",
       "      <td>2018</td>\n",
       "      <td>2</td>\n",
       "      <td>0</td>\n",
       "    </tr>\n",
       "    <tr>\n",
       "      <th>864</th>\n",
       "      <td>Serbia</td>\n",
       "      <td>Switzerland</td>\n",
       "      <td>2018</td>\n",
       "      <td>1</td>\n",
       "      <td>2</td>\n",
       "    </tr>\n",
       "    <tr>\n",
       "      <th>865</th>\n",
       "      <td>Serbia</td>\n",
       "      <td>Brazil</td>\n",
       "      <td>2018</td>\n",
       "      <td>0</td>\n",
       "      <td>2</td>\n",
       "    </tr>\n",
       "    <tr>\n",
       "      <th>867</th>\n",
       "      <td>Germany</td>\n",
       "      <td>Mexico</td>\n",
       "      <td>2018</td>\n",
       "      <td>0</td>\n",
       "      <td>1</td>\n",
       "    </tr>\n",
       "    <tr>\n",
       "      <th>900</th>\n",
       "      <td>France</td>\n",
       "      <td>Croatia</td>\n",
       "      <td>2018</td>\n",
       "      <td>4</td>\n",
       "      <td>2</td>\n",
       "    </tr>\n",
       "  </tbody>\n",
       "</table>\n",
       "<p>900 rows × 5 columns</p>\n",
       "</div>"
      ],
      "text/plain": [
       "          HomeTeam       AwayTeam  Year HomeGoals AwayGoals\n",
       "450     Yugoslavia         Brazil  1930         2         1\n",
       "460        Uruguay     Yugoslavia  1930         6         1\n",
       "459      Argentina  United States  1930         6         1\n",
       "458       Paraguay        Belgium  1930         1         0\n",
       "457  United States       Paraguay  1930         3         0\n",
       "..             ...            ...   ...       ...       ...\n",
       "863         Brazil     Costa Rica  2018         2         0\n",
       "864         Serbia    Switzerland  2018         1         2\n",
       "865         Serbia         Brazil  2018         0         2\n",
       "867        Germany         Mexico  2018         0         1\n",
       "900         France        Croatia  2018         4         2\n",
       "\n",
       "[900 rows x 5 columns]"
      ]
     },
     "execution_count": 15,
     "metadata": {},
     "output_type": "execute_result"
    }
   ],
   "source": [
    "df_data_historica.rename(columns={'home':'HomeTeam', 'away': 'AwayTeam', 'year': 'Year'}, inplace=True)\n",
    "df_data_historica"
   ]
  },
  {
   "cell_type": "code",
   "execution_count": 19,
   "id": "b3f7b876",
   "metadata": {},
   "outputs": [],
   "source": [
    "df_data_historica[df_data_historica['AwayGoals'].str.contains('[^\\d-]')]\n",
    "df_data_historica['AwayGoals'] = df_data_historica['AwayGoals'].str.replace('[^\\d-]', '', regex = True)"
   ]
  },
  {
   "cell_type": "code",
   "execution_count": 20,
   "id": "302d24af",
   "metadata": {},
   "outputs": [
    {
     "data": {
      "text/plain": [
       "HomeTeam     object\n",
       "AwayTeam     object\n",
       "Year          int64\n",
       "HomeGoals    object\n",
       "AwayGoals    object\n",
       "dtype: object"
      ]
     },
     "execution_count": 20,
     "metadata": {},
     "output_type": "execute_result"
    }
   ],
   "source": [
    "df_data_historica.dtypes"
   ]
  },
  {
   "cell_type": "code",
   "execution_count": 21,
   "id": "5ee00178",
   "metadata": {},
   "outputs": [],
   "source": [
    "df_data_historica = df_data_historica.astype({'HomeGoals': int, 'AwayGoals': int, 'Year': int})"
   ]
  },
  {
   "cell_type": "code",
   "execution_count": 22,
   "id": "b8b1c14c",
   "metadata": {},
   "outputs": [
    {
     "data": {
      "text/plain": [
       "HomeTeam     object\n",
       "AwayTeam     object\n",
       "Year          int32\n",
       "HomeGoals     int32\n",
       "AwayGoals     int32\n",
       "dtype: object"
      ]
     },
     "execution_count": 22,
     "metadata": {},
     "output_type": "execute_result"
    }
   ],
   "source": [
    "df_data_historica.dtypes"
   ]
  },
  {
   "cell_type": "code",
   "execution_count": 24,
   "id": "6efae30a",
   "metadata": {},
   "outputs": [],
   "source": [
    "df_data_historica['TotalGoals'] = df_data_historica['HomeGoals'] + df_data_historica['AwayGoals']"
   ]
  },
  {
   "cell_type": "code",
   "execution_count": 27,
   "id": "60da032c",
   "metadata": {},
   "outputs": [
    {
     "data": {
      "text/plain": [
       "450    1930\n",
       "460    1930\n",
       "459    1930\n",
       "458    1930\n",
       "457    1930\n",
       "       ... \n",
       "863    2018\n",
       "864    2018\n",
       "865    2018\n",
       "867    2018\n",
       "900    2018\n",
       "Name: Year, Length: 900, dtype: int32"
      ]
     },
     "execution_count": 27,
     "metadata": {},
     "output_type": "execute_result"
    }
   ],
   "source": [
    "df_data_historica['Year']"
   ]
  },
  {
   "cell_type": "markdown",
   "id": "852d4091",
   "metadata": {},
   "source": [
    "Exportar dataframes limpios"
   ]
  },
  {
   "cell_type": "code",
   "execution_count": 26,
   "id": "d27ba715",
   "metadata": {},
   "outputs": [],
   "source": [
    "df_data_historica.to_csv('clean_fifa_worldcup_matches.csv', index=False)\n",
    "df_fixture.to_csv('clean_fifa_worldcup_fixture.csv', index=False)"
   ]
  },
  {
   "cell_type": "code",
   "execution_count": 28,
   "id": "84aad51d",
   "metadata": {},
   "outputs": [
    {
     "name": "stdout",
     "output_type": "stream",
     "text": [
      "1930 18\n",
      "1934 17\n",
      "1938 18\n",
      "1950 22\n",
      "1954 26\n",
      "1958 35\n",
      "1962 32\n",
      "1966 32\n",
      "1970 32\n",
      "1974 38\n",
      "1978 38\n",
      "1982 52\n",
      "1986 52\n",
      "1990 52\n",
      "1994 52\n",
      "1998 64\n",
      "2002 64\n",
      "2006 64\n",
      "2010 64\n",
      "2014 64\n",
      "2018 64\n"
     ]
    }
   ],
   "source": [
    "years = [1930, 1934, 1938, 1950, 1954, 1958, 1962, 1966, 1970, 1974, 1978, 1982, 1986, 1990, 1994, 1998, 2002, 2006,2010, 2014, 2018]\n",
    "\n",
    "for year in years:\n",
    "    print(year, len(df_data_historica[df_data_historica['Year'] == year]))"
   ]
  },
  {
   "cell_type": "code",
   "execution_count": 29,
   "id": "dbcde141",
   "metadata": {},
   "outputs": [
    {
     "ename": "SyntaxError",
     "evalue": "invalid syntax (3827820173.py, line 1)",
     "output_type": "error",
     "traceback": [
      "\u001b[1;36m  Cell \u001b[1;32mIn[29], line 1\u001b[1;36m\u001b[0m\n\u001b[1;33m    git add .\u001b[0m\n\u001b[1;37m        ^\u001b[0m\n\u001b[1;31mSyntaxError\u001b[0m\u001b[1;31m:\u001b[0m invalid syntax\n"
     ]
    }
   ],
   "source": []
  },
  {
   "cell_type": "code",
   "execution_count": null,
   "id": "5d8ad355",
   "metadata": {},
   "outputs": [],
   "source": []
  }
 ],
 "metadata": {
  "kernelspec": {
   "display_name": "Python 3 (ipykernel)",
   "language": "python",
   "name": "python3"
  },
  "language_info": {
   "codemirror_mode": {
    "name": "ipython",
    "version": 3
   },
   "file_extension": ".py",
   "mimetype": "text/x-python",
   "name": "python",
   "nbconvert_exporter": "python",
   "pygments_lexer": "ipython3",
   "version": "3.10.9"
  }
 },
 "nbformat": 4,
 "nbformat_minor": 5
}
